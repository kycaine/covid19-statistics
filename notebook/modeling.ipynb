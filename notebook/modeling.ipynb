{
 "cells": [
  {
   "cell_type": "code",
   "execution_count": 1,
   "metadata": {
    "execution": {
     "iopub.execute_input": "2024-12-04T08:31:24.335655Z",
     "iopub.status.busy": "2024-12-04T08:31:24.335143Z",
     "iopub.status.idle": "2024-12-04T08:31:25.618293Z",
     "shell.execute_reply": "2024-12-04T08:31:25.617374Z"
    }
   },
   "outputs": [
    {
     "name": "stdout",
     "output_type": "stream",
     "text": [
      "Mean Squared Error: 0.023237555008811243\n",
      "R-squared: 0.7258883400527175\n"
     ]
    }
   ],
   "source": [
    "import sys\n",
    "import os\n",
    "import pandas as pd\n",
    "\n",
    "sys.path.append(os.path.join(os.getcwd(), '..', 'script'))\n",
    "\n",
    "from modeling import train_model, plot_results\n",
    "\n",
    "df_cleaned = pd.read_csv('../output/feature_engineering/covid_feature_engineered.csv')\n",
    "\n",
    "features = ['confirmed_cases', 'deaths', 'recoveries', 'total_confirmed', 'total_deaths', 'total_recoveries']\n",
    "target = 'case_fatality_rate' \n",
    "\n",
    "output_dir = '../output/modeling'\n",
    "\n",
    "os.makedirs(output_dir, exist_ok=True)\n",
    "\n",
    "model, X_test, y_test, y_pred = train_model(df_cleaned, target, features, output_dir)\n",
    "\n",
    "plot_results(y_test, y_pred, output_dir)\n"
   ]
  }
 ],
 "metadata": {
  "kernelspec": {
   "display_name": "Python 3 (ipykernel)",
   "language": "python",
   "name": "python3"
  },
  "language_info": {
   "codemirror_mode": {
    "name": "ipython",
    "version": 3
   },
   "file_extension": ".py",
   "mimetype": "text/x-python",
   "name": "python",
   "nbconvert_exporter": "python",
   "pygments_lexer": "ipython3",
   "version": "3.10.12"
  }
 },
 "nbformat": 4,
 "nbformat_minor": 2
}
