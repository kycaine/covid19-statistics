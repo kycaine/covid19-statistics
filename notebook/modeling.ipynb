{
 "cells": [
  {
   "cell_type": "code",
   "execution_count": null,
   "metadata": {
    "execution": {
     "iopub.execute_input": "2024-12-04T08:59:05.491909Z",
     "iopub.status.busy": "2024-12-04T08:59:05.491436Z",
     "iopub.status.idle": "2024-12-04T08:59:06.822995Z",
     "shell.execute_reply": "2024-12-04T08:59:06.822355Z"
    }
   },
   "outputs": [],
   "source": [
    "import sys\n",
    "import os\n",
    "import pandas as pd\n",
    "\n",
    "sys.path.append(os.path.join(os.getcwd(), '..', 'script'))\n",
    "\n",
    "from modeling import train_model, plot_results\n",
    "\n",
    "df_cleaned = pd.read_csv('../output/feature_engineering/covid_feature_engineered.csv')\n",
    "\n",
    "features = ['confirmed_cases', 'deaths', 'recoveries', 'total_confirmed', 'total_deaths', 'total_recoveries']\n",
    "target = 'case_fatality_rate' \n",
    "\n",
    "output_dir = '../output/modeling'\n",
    "\n",
    "os.makedirs(output_dir, exist_ok=True)\n",
    "\n",
    "model, X_test, y_test, y_pred = train_model(df_cleaned, target, features, output_dir)\n",
    "\n",
    "plot_results(y_test, y_pred, output_dir)\n"
   ]
  }
 ],
 "metadata": {
  "kernelspec": {
   "display_name": "Python 3 (ipykernel)",
   "language": "python",
   "name": "python3"
  },
  "language_info": {
   "codemirror_mode": {
    "name": "ipython",
    "version": 3
   },
   "file_extension": ".py",
   "mimetype": "text/x-python",
   "name": "python",
   "nbconvert_exporter": "python",
   "pygments_lexer": "ipython3",
   "version": "3.10.12"
  }
 },
 "nbformat": 4,
 "nbformat_minor": 2
}
