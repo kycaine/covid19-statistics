{
 "cells": [
  {
   "cell_type": "code",
   "execution_count": 1,
   "metadata": {
    "execution": {
     "iopub.execute_input": "2024-12-05T05:15:37.800535Z",
     "iopub.status.busy": "2024-12-05T05:15:37.800177Z",
     "iopub.status.idle": "2024-12-05T05:15:40.227635Z",
     "shell.execute_reply": "2024-12-05T05:15:40.226718Z"
    }
   },
   "outputs": [
    {
     "name": "stdout",
     "output_type": "stream",
     "text": [
      "Summary Statistics:\n",
      "       confirmed_cases       deaths   recoveries  total_confirmed  \\\n",
      "count      1922.000000  1922.000000  1922.000000      1922.000000   \n",
      "mean        511.744017   256.876171   257.959417      5467.572320   \n",
      "std         281.149122   219.846374   221.077053      2887.798545   \n",
      "min           2.000000     0.000000     0.000000        22.000000   \n",
      "25%         272.000000    73.000000    77.000000      3032.000000   \n",
      "50%         507.500000   197.500000   199.000000      5454.500000   \n",
      "75%         754.000000   389.750000   388.000000      7935.750000   \n",
      "max        1000.000000   948.000000   991.000000     10906.000000   \n",
      "\n",
      "       total_deaths  total_recoveries  \n",
      "count   1922.000000       1922.000000  \n",
      "mean    2781.543704       2768.957336  \n",
      "std     1462.178395       1435.950822  \n",
      "min       15.000000         23.000000  \n",
      "25%     1516.500000       1539.500000  \n",
      "50%     2796.000000       2767.000000  \n",
      "75%     4012.750000       3978.750000  \n",
      "max     5751.000000       5827.000000  \n"
     ]
    }
   ],
   "source": [
    "import pandas as pd\n",
    "import sys\n",
    "import os\n",
    "import matplotlib.pyplot as plt\n",
    "import seaborn as sns\n",
    "import numpy as np\n",
    "\n",
    "script_path = os.path.abspath(os.path.join(os.getcwd(), '../script'))\n",
    "sys.path.append(script_path)\n",
    "\n",
    "df_cleaned = pd.read_csv('../output/data_cleaning/valid_filtered_covid19_data.csv')\n",
    "\n",
    "def summary_statistics(df):\n",
    "    print(\"Summary Statistics:\")\n",
    "    print(df.describe())\n",
    "\n",
    "def plot_histograms(df, columns):\n",
    "    for column in columns:\n",
    "        plt.figure(figsize=(10, 6))\n",
    "        sns.histplot(df[column], kde=True)\n",
    "        plt.title(f'Distribution of {column}')\n",
    "        \n",
    "        os.makedirs('../output/eda', exist_ok=True)\n",
    "        plt.savefig(f'../output/eda/{column}_histogram.png')\n",
    "        plt.close()  \n",
    "\n",
    "def plot_boxplots(df, columns):\n",
    "    for column in columns:\n",
    "        plt.figure(figsize=(10, 6))\n",
    "        sns.boxplot(x=df[column])\n",
    "        plt.title(f'Boxplot of {column}')\n",
    "        os.makedirs('../output/eda', exist_ok=True)\n",
    "        plt.savefig(f'../output/eda/{column}_boxplot.png')\n",
    "        plt.close()  \n",
    "\n",
    "def plot_correlation_heatmap(df):\n",
    "    df_numeric = df.select_dtypes(include=[np.number])\n",
    "    \n",
    "    plt.figure(figsize=(10, 6))\n",
    "    corr_matrix = df_numeric.corr()\n",
    "    sns.heatmap(corr_matrix, annot=True, cmap='coolwarm', fmt='.2f')\n",
    "    plt.title('Correlation Heatmap')\n",
    "    \n",
    "    os.makedirs('../output/eda', exist_ok=True)\n",
    "    plt.savefig('../output/eda/correlation_heatmap.png')\n",
    "    plt.close()  \n",
    "\n",
    "\n",
    "summary_statistics(df_cleaned)\n",
    "plot_histograms(df_cleaned, ['confirmed_cases', 'deaths', 'recoveries'])\n",
    "plot_boxplots(df_cleaned, ['deaths', 'recoveries'])\n",
    "plot_correlation_heatmap(df_cleaned)\n"
   ]
  }
 ],
 "metadata": {
  "kernelspec": {
   "display_name": "Python 3 (ipykernel)",
   "language": "python",
   "name": "python3"
  },
  "language_info": {
   "codemirror_mode": {
    "name": "ipython",
    "version": 3
   },
   "file_extension": ".py",
   "mimetype": "text/x-python",
   "name": "python",
   "nbconvert_exporter": "python",
   "pygments_lexer": "ipython3",
   "version": "3.10.12"
  }
 },
 "nbformat": 4,
 "nbformat_minor": 2
}
