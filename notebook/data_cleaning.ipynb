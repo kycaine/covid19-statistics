{
 "cells": [
  {
   "cell_type": "code",
   "execution_count": 1,
   "metadata": {
    "execution": {
     "iopub.execute_input": "2024-12-04T08:58:55.383992Z",
     "iopub.status.busy": "2024-12-04T08:58:55.383561Z",
     "iopub.status.idle": "2024-12-04T08:58:56.715747Z",
     "shell.execute_reply": "2024-12-04T08:58:56.714849Z"
    }
   },
   "outputs": [],
   "source": [
    "import sys\n",
    "import os\n",
    "\n",
    "sys.path.append(os.path.join(os.getcwd(), '..', 'script'))\n",
    "\n",
    "from data_cleaning import clean_and_filter_data\n",
    "\n",
    "file_path = os.path.abspath(os.path.join(os.getcwd(), '..', 'data', 'covid19_data.csv'))\n",
    "valid_countries = ['USA', 'Italy', 'China', 'Brazil', 'India', 'Spain', 'Indonesia', 'Malaysia', 'Norway', 'UK']\n",
    "\n",
    "output_dir = os.path.join(os.getcwd(), '..', 'output', 'data_cleaning')\n",
    "os.makedirs(output_dir, exist_ok=True)\n",
    "\n",
    "valid_df, invalid_df = clean_and_filter_data(file_path, output_dir, valid_countries)\n",
    "\n",
    "if valid_df is not None and invalid_df is not None:\n",
    "    print(\"Valid Data:\")\n",
    "    display(valid_df.head())\n",
    "\n",
    "    print(\"\\nInvalid Data:\")\n",
    "    display(invalid_df.head()) \n"
   ]
  }
 ],
 "metadata": {
  "kernelspec": {
   "display_name": "Python 3 (ipykernel)",
   "language": "python",
   "name": "python3"
  }
 },
 "nbformat": 4,
 "nbformat_minor": 4
}
