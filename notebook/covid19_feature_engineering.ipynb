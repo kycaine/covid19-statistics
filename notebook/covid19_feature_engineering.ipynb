{
 "cells": [
  {
   "cell_type": "code",
   "execution_count": 1,
   "metadata": {},
   "outputs": [],
   "source": [
    "import pandas as pd\n",
    "import sys\n",
    "import os\n",
    "\n",
    "sys.path.append(os.path.join(os.getcwd(), '..', 'script'))\n",
    "\n",
    "from feature_engineering import feature_engineering, save_featured_data\n",
    "\n",
    "df_cleaned = pd.read_csv('../output/data_cleaning/valid_filtered_covid19_data.csv')\n",
    "df_featured = feature_engineering(df_cleaned)\n",
    "\n",
    "output_dir = os.path.join(os.getcwd(), '..', 'output', 'feature_engineering')\n",
    "save_featured_data(df_featured, output_dir)\n",
    "\n",
    "df_featured.head()\n"
   ]
  }
 ],
 "metadata": {
  "kernelspec": {
   "display_name": "Python 3 (ipykernel)",
   "language": "python",
   "name": "python3"
  }
 },
 "nbformat": 4,
 "nbformat_minor": 2
}
