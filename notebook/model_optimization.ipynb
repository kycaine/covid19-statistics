{
 "cells": [
  {
   "cell_type": "code",
   "execution_count": 1,
   "metadata": {
    "execution": {
     "iopub.execute_input": "2024-12-05T05:23:27.684412Z",
     "iopub.status.busy": "2024-12-05T05:23:27.683998Z",
     "iopub.status.idle": "2024-12-05T05:23:28.431812Z",
     "shell.execute_reply": "2024-12-05T05:23:28.431197Z"
    }
   },
   "outputs": [
    {
     "name": "stdout",
     "output_type": "stream",
     "text": [
      "Data before cleaning:\n",
      "     Actual  Predicted\n",
      "0  0.053628  -0.141586\n",
      "1  0.505852   0.508148\n",
      "2  0.451613   0.475853\n",
      "3  0.510638   0.515481\n",
      "4  0.503563   0.497412\n",
      "Data after cleaning:\n",
      "     Actual  Predicted\n",
      "0  0.053628  -0.141586\n",
      "1  0.505852   0.508148\n",
      "2  0.451613   0.475853\n",
      "3  0.510638   0.515481\n",
      "4  0.503563   0.497412\n",
      "OPtimization results saved to ../output/model_optimization/model_optimization_results.txt\n",
      "\n",
      "Model Optimization Results:\n",
      "MAE: 0.10965379179808646\n",
      "MSE: 0.02323755500881124\n",
      "RMSE: 0.1524386926236618\n",
      "R²: 0.7258883400527176\n"
     ]
    }
   ],
   "source": [
    "import pandas as pd\n",
    "import sys\n",
    "import os\n",
    "\n",
    "sys.path.append(os.path.join(os.getcwd(), '..', 'script'))\n",
    "\n",
    "from model_optimization import optimize_model\n",
    "\n",
    "data = pd.read_csv('../output/modeling/predictions.csv')\n",
    "\n",
    "output_dir = '../output/model_optimization'\n",
    "os.makedirs(output_dir, exist_ok=True)\n",
    "optimization_results = optimize_model(data, output_dir)\n",
    "\n",
    "print(\"\\nModel Optimization Results:\")\n",
    "for metric, value in optimization_results.items():\n",
    "    print(f\"{metric}: {value}\")\n"
   ]
  }
 ],
 "metadata": {
  "kernelspec": {
   "display_name": "Python 3 (ipykernel)",
   "language": "python",
   "name": "python3"
  },
  "language_info": {
   "codemirror_mode": {
    "name": "ipython",
    "version": 3
   },
   "file_extension": ".py",
   "mimetype": "text/x-python",
   "name": "python",
   "nbconvert_exporter": "python",
   "pygments_lexer": "ipython3",
   "version": "3.10.12"
  }
 },
 "nbformat": 4,
 "nbformat_minor": 2
}
