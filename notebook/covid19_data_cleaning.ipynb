{
 "cells": [
  {
   "cell_type": "code",
   "execution_count": null,
   "metadata": {},
   "outputs": [],
   "source": [
    "import sys\n",
    "import os\n",
    "\n",
    "sys.path.append(os.path.join(os.getcwd(), '..', 'script'))\n",
    "\n",
    "from data_cleaning import clean_and_filter_data\n",
    "\n",
    "file_path = os.path.abspath(os.path.join(os.getcwd(), '..', 'data', 'covid19_data.csv'))\n",
    "valid_countries = ['USA', 'Italy', 'China', 'Brazil', 'India', 'Spain', 'Indonesia', 'Malaysia', 'Norway', 'UK']\n",
    "\n",
    "valid_df, invalid_df = clean_and_filter_data(file_path, valid_countries)\n",
    "\n",
    "if valid_df is not None and invalid_df is not None:\n",
    "    print(\"Valid Data:\")\n",
    "    display(valid_df.head())\n",
    "\n",
    "    print(\"\\nInvalid Data:\")\n",
    "    display(invalid_df.head()) \n"
   ]
  }
 ],
 "metadata": {
  "kernelspec": {
   "display_name": "Python 3 (ipykernel)",
   "language": "python",
   "name": "python3"
  },
  "language_info": {
   "codemirror_mode": {
    "name": "ipython",
    "version": 3
   },
   "file_extension": ".py",
   "mimetype": "text/x-python",
   "name": "python",
   "nbconvert_exporter": "python",
   "pygments_lexer": "ipython3",
   "version": "3.10.12"
  }
 },
 "nbformat": 4,
 "nbformat_minor": 4
}
