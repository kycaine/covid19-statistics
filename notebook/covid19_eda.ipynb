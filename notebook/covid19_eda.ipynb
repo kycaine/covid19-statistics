{
 "cells": [
  {
   "cell_type": "code",
   "execution_count": null,
   "metadata": {},
   "outputs": [],
   "source": [
    "import pandas as pd\n",
    "import sys\n",
    "import os\n",
    "import matplotlib.pyplot as plt\n",
    "import seaborn as sns\n",
    "import numpy as np\n",
    "\n",
    "script_path = os.path.abspath(os.path.join(os.getcwd(), '../script'))\n",
    "sys.path.append(script_path)\n",
    "\n",
    "df_cleaned = pd.read_csv('../output/data_cleaning/valid_filtered_covid19_data.csv')\n",
    "\n",
    "def summary_statistics(df):\n",
    "    print(\"Summary Statistics:\")\n",
    "    print(df.describe())\n",
    "\n",
    "def plot_histograms(df, columns):\n",
    "    for column in columns:\n",
    "        plt.figure(figsize=(10, 6))\n",
    "        sns.histplot(df[column], kde=True)\n",
    "        plt.title(f'Distribution of {column}')\n",
    "        \n",
    "        os.makedirs('../output/eda', exist_ok=True)\n",
    "        plt.savefig(f'../output/eda/{column}_histogram.png')\n",
    "        plt.close()  \n",
    "\n",
    "def plot_boxplots(df, columns):\n",
    "    for column in columns:\n",
    "        plt.figure(figsize=(10, 6))\n",
    "        sns.boxplot(x=df[column])\n",
    "        plt.title(f'Boxplot of {column}')\n",
    "        os.makedirs('../output/eda', exist_ok=True)\n",
    "        plt.savefig(f'../output/eda/{column}_boxplot.png')\n",
    "        plt.close()  \n",
    "\n",
    "def plot_correlation_heatmap(df):\n",
    "    df_numeric = df.select_dtypes(include=[np.number])\n",
    "    \n",
    "    plt.figure(figsize=(10, 6))\n",
    "    corr_matrix = df_numeric.corr()\n",
    "    sns.heatmap(corr_matrix, annot=True, cmap='coolwarm', fmt='.2f')\n",
    "    plt.title('Correlation Heatmap')\n",
    "    \n",
    "    os.makedirs('../output/eda', exist_ok=True)\n",
    "    plt.savefig('../output/eda/correlation_heatmap.png')\n",
    "    plt.close()  \n",
    "\n",
    "\n",
    "summary_statistics(df_cleaned)\n",
    "plot_histograms(df_cleaned, ['confirmed_cases', 'deaths', 'recoveries'])\n",
    "plot_boxplots(df_cleaned, ['deaths', 'recoveries'])\n",
    "plot_correlation_heatmap(df_cleaned)\n"
   ]
  }
 ],
 "metadata": {
  "kernelspec": {
   "display_name": "Python 3 (ipykernel)",
   "language": "python",
   "name": "python3"
  },
  "language_info": {
   "codemirror_mode": {
    "name": "ipython",
    "version": 3
   },
   "file_extension": ".py",
   "mimetype": "text/x-python",
   "name": "python",
   "nbconvert_exporter": "python",
   "pygments_lexer": "ipython3",
   "version": "3.10.12"
  }
 },
 "nbformat": 4,
 "nbformat_minor": 2
}
