{
 "cells": [
  {
   "cell_type": "code",
   "execution_count": 1,
   "metadata": {
    "execution": {
     "iopub.execute_input": "2025-02-11T07:26:40.164113Z",
     "iopub.status.busy": "2025-02-11T07:26:40.163099Z",
     "iopub.status.idle": "2025-02-11T07:26:41.466601Z",
     "shell.execute_reply": "2025-02-11T07:26:41.466601Z"
    }
   },
   "outputs": [
    {
     "name": "stdout",
     "output_type": "stream",
     "text": [
      "Evaluation results saved to ../output/5.model_evaluation\\model_evaluation_results.txt\n",
      "MAE: 0.10965379179808638\n",
      "MSE: 0.023237555008811188\n",
      "RMSE: 0.1524386926236616\n",
      "R²: 0.7258883400527182\n"
     ]
    }
   ],
   "source": [
    "import pandas as pd\n",
    "import os\n",
    "import sys\n",
    "\n",
    "sys.path.append(os.path.join(os.getcwd(), '..', 'script'))\n",
    "\n",
    "from model_evaluation import evaluate_model\n",
    "\n",
    "data = pd.read_csv('../output/4.modeling/predictions.csv')\n",
    "\n",
    "output_dir = '../output/5.model_evaluation'\n",
    "os.makedirs(output_dir, exist_ok=True)\n",
    "\n",
    "results = evaluate_model(data, output_dir)\n",
    "\n",
    "for metric, value in results.items():\n",
    "    print(f\"{metric}: {value}\")\n"
   ]
  }
 ],
 "metadata": {
  "kernelspec": {
   "display_name": "Python 3 (ipykernel)",
   "language": "python",
   "name": "python3"
  },
  "language_info": {
   "codemirror_mode": {
    "name": "ipython",
    "version": 3
   },
   "file_extension": ".py",
   "mimetype": "text/x-python",
   "name": "python",
   "nbconvert_exporter": "python",
   "pygments_lexer": "ipython3",
   "version": "3.11.4"
  }
 },
 "nbformat": 4,
 "nbformat_minor": 2
}
