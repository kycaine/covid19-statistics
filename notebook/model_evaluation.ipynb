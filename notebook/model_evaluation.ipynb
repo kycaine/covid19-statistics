{
 "cells": [
  {
   "cell_type": "code",
   "execution_count": 1,
   "metadata": {
    "execution": {
     "iopub.execute_input": "2024-12-05T05:23:24.665221Z",
     "iopub.status.busy": "2024-12-05T05:23:24.664728Z",
     "iopub.status.idle": "2024-12-05T05:23:25.395525Z",
     "shell.execute_reply": "2024-12-05T05:23:25.394672Z"
    }
   },
   "outputs": [
    {
     "name": "stdout",
     "output_type": "stream",
     "text": [
      "Evaluation results saved to ../output/model_evaluation/model_evaluation_results.txt\n",
      "MAE: 0.10965379179808646\n",
      "MSE: 0.02323755500881124\n",
      "RMSE: 0.1524386926236618\n",
      "R²: 0.7258883400527176\n"
     ]
    }
   ],
   "source": [
    "import pandas as pd\n",
    "import os\n",
    "import sys\n",
    "\n",
    "sys.path.append(os.path.join(os.getcwd(), '..', 'script'))\n",
    "\n",
    "from model_evaluation import evaluate_model\n",
    "\n",
    "data = pd.read_csv('../output/modeling/predictions.csv')\n",
    "\n",
    "output_dir = '../output/model_evaluation'\n",
    "os.makedirs(output_dir, exist_ok=True)\n",
    "\n",
    "results = evaluate_model(data, output_dir)\n",
    "\n",
    "for metric, value in results.items():\n",
    "    print(f\"{metric}: {value}\")\n"
   ]
  }
 ],
 "metadata": {
  "kernelspec": {
   "display_name": "Python 3 (ipykernel)",
   "language": "python",
   "name": "python3"
  },
  "language_info": {
   "codemirror_mode": {
    "name": "ipython",
    "version": 3
   },
   "file_extension": ".py",
   "mimetype": "text/x-python",
   "name": "python",
   "nbconvert_exporter": "python",
   "pygments_lexer": "ipython3",
   "version": "3.10.12"
  }
 },
 "nbformat": 4,
 "nbformat_minor": 2
}
